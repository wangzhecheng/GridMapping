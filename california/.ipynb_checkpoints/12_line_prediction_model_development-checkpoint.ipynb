{
 "cells": [
  {
   "cell_type": "code",
   "execution_count": 1,
   "metadata": {},
   "outputs": [],
   "source": [
    "# from __future__ import absolute_import\n",
    "# from __future__ import division\n",
    "# from __future__ import print_function\n",
    "# from __future__ import unicode_literals\n",
    "# from __future__ import with_statement\n",
    "import heapq\n",
    "import os\n",
    "import sys\n",
    "import time\n",
    "import pickle\n",
    "import pandas as pd\n",
    "import matplotlib\n",
    "from matplotlib.path import Path\n",
    "matplotlib.use('Agg')\n",
    "import matplotlib.pyplot as plt\n",
    "# from numba import autojit\n",
    "import numpy as np\n",
    "import census_tract_locator\n",
    "from tqdm import tqdm\n",
    "import geojson\n",
    "import copy\n",
    "from os.path import exists, join"
   ]
  },
  {
   "cell_type": "code",
   "execution_count": 2,
   "metadata": {},
   "outputs": [],
   "source": [
    "from utils import *\n",
    "from feature_engineering import *\n",
    "from evaluation_utils import *"
   ]
  },
  {
   "cell_type": "code",
   "execution_count": 3,
   "metadata": {},
   "outputs": [],
   "source": [
    "%matplotlib inline"
   ]
  },
  {
   "cell_type": "markdown",
   "metadata": {},
   "source": [
    "This notebook is for training and cross-validating the link prediction model using the San Carlos development set. It contains 9 census tracts, and we run 9-fold cross-validation on the data partitioned by these 9 census tracts."
   ]
  },
  {
   "cell_type": "code",
   "execution_count": 4,
   "metadata": {},
   "outputs": [],
   "source": [
    "region = 'SanCarlos'"
   ]
  },
  {
   "cell_type": "code",
   "execution_count": 12,
   "metadata": {},
   "outputs": [],
   "source": [
    "def determine_root_dir():\n",
    "    \"\"\"\n",
    "    This function is used to locate the root dir back to the parent directory,\n",
    "    i.e., \"GridMapping\" directory.\n",
    "    \"\"\"\n",
    "    root_dir = os.path.abspath(os.path.join(os.getcwd(), os.pardir))\n",
    "    assert root_dir.strip('/')[-11:] == 'GridMapping'\n",
    "    return root_dir\n",
    "\n",
    "root_dir = determine_root_dir()\n",
    "# change the root dir to \"GridMapping\"\n",
    "os.chdir(root_dir)"
   ]
  },
  {
   "cell_type": "code",
   "execution_count": 13,
   "metadata": {},
   "outputs": [],
   "source": [
    "pole_model = 'ori0.5'"
   ]
  },
  {
   "cell_type": "code",
   "execution_count": 14,
   "metadata": {},
   "outputs": [],
   "source": [
    "benchmark_version = 'corrected_2'"
   ]
  },
  {
   "cell_type": "code",
   "execution_count": 15,
   "metadata": {},
   "outputs": [],
   "source": [
    "data_dir = '/home/ubuntu/projects/DeepGrid_run_data'"
   ]
  },
  {
   "cell_type": "code",
   "execution_count": 16,
   "metadata": {},
   "outputs": [],
   "source": [
    "color_list = ['red', 'green', 'blue', 'yellow', 'orange', 'purple', 'cyan', 'grey', 'magenta']"
   ]
  },
  {
   "cell_type": "code",
   "execution_count": 18,
   "metadata": {},
   "outputs": [],
   "source": [
    "fips_list_dict = {\n",
    "    'SanCarlos': [6081609100, 6081609201, 6081609202, 6081609300, 6081609400, 6081609500, 6081609601, 6081609602, 6081609603],\n",
    "    'Newark': [6001444100, 6001444200, 6001444301, 6001444400, 6001444500, 6001444601], \n",
    "    'Yuba': [6101050201, 6101050202, 6101050301, 6101050302],\n",
    "    'Monterey': [6053012401, 6053012402, 6053012302, 6053012200, 6053012100, 6053012000],\n",
    "    'Salinas': [6053000800, 6053000600, 6053000701, 6053000702],\n",
    "}"
   ]
  },
  {
   "cell_type": "code",
   "execution_count": 19,
   "metadata": {},
   "outputs": [],
   "source": [
    "boundaries_keys = fips_list_dict[region]"
   ]
  },
  {
   "cell_type": "code",
   "execution_count": 20,
   "metadata": {},
   "outputs": [],
   "source": [
    "# model parameters\n",
    "candidate_pair_threshold = 100"
   ]
  },
  {
   "cell_type": "markdown",
   "metadata": {},
   "source": [
    "# 1. Load data"
   ]
  },
  {
   "cell_type": "code",
   "execution_count": 21,
   "metadata": {},
   "outputs": [
    {
     "name": "stdout",
     "output_type": "stream",
     "text": [
      "19671\n",
      "1897\n",
      "1897\n"
     ]
    }
   ],
   "source": [
    "with open(join('results', region, 'line_info_merged.pickle'), 'rb') as f:\n",
    "    sv2line = pickle.load(f)\n",
    "with open(join('results', region, pole_model, 'pole_locations.pickle'), 'rb') as f:\n",
    "    poles = pickle.load(f)\n",
    "with open(join('results', region, pole_model, 'pole_attached_GSVs.pickle'), 'rb') as f:\n",
    "    pole2sv = pickle.load(f)\n",
    "print(len(sv2line))\n",
    "print(len(poles))\n",
    "print(len(pole2sv))"
   ]
  },
  {
   "cell_type": "code",
   "execution_count": 22,
   "metadata": {},
   "outputs": [
    {
     "name": "stdout",
     "output_type": "stream",
     "text": [
      "19671\n",
      "19671\n",
      "19671\n",
      "1897\n",
      "1897\n"
     ]
    }
   ],
   "source": [
    "sv2idx = {}  # key: (lat, lon) of GSV, value: GSV index\n",
    "idx2sv = []  # list of (lat, lon) of GSV\n",
    "idx2line = []  # list of line info list\n",
    "for i in range(len(sv2line)):\n",
    "    coord, line_list = sv2line[i]\n",
    "    coord = tuple(coord)\n",
    "    sv2idx[coord] = i\n",
    "    idx2sv.append(coord)\n",
    "    idx2line.append(line_list)\n",
    "\n",
    "pole2svidx = []    # GSV indices corresponding to each pole (pole index)\n",
    "idx2poles = [set() for i in range(len(idx2sv))]  # detected pole(s) (pole index) for each GSV (GSV index)\n",
    "for i in range(len(pole2sv)):\n",
    "    idx_list = []\n",
    "    for x in pole2sv[i]:\n",
    "        x = tuple(x)\n",
    "        idx = sv2idx[x]\n",
    "        idx_list.append(idx)\n",
    "        idx2poles[idx].add(i) \n",
    "    pole2svidx.append(list(set(idx_list)))\n",
    "\n",
    "print(len(idx2sv))\n",
    "print(len(idx2line))\n",
    "print(len(idx2poles))\n",
    "print(len(pole2svidx))\n",
    "print(len(poles))"
   ]
  },
  {
   "cell_type": "code",
   "execution_count": 23,
   "metadata": {},
   "outputs": [
    {
     "data": {
      "text/plain": [
       "2330"
      ]
     },
     "execution_count": 23,
     "metadata": {},
     "output_type": "execute_result"
    }
   ],
   "source": [
    "# all predicted poles (detected + inserted)\n",
    "with open(join('results', region, pole_model, 'all_predicted_poles.pickle'), 'rb') as f:\n",
    "    all_predicted_poles = pickle.load(f)\n",
    "len(all_predicted_poles)"
   ]
  },
  {
   "cell_type": "code",
   "execution_count": 24,
   "metadata": {},
   "outputs": [
    {
     "data": {
      "text/plain": [
       "1595"
      ]
     },
     "execution_count": 24,
     "metadata": {},
     "output_type": "execute_result"
    }
   ],
   "source": [
    "# road model (street views and poles registered)\n",
    "with open(join('results', region, pole_model, 'road_polyline_dict.pickle'), 'rb') as f:\n",
    "    polyline_dict_updated = pickle.load(f)\n",
    "len(polyline_dict_updated)"
   ]
  },
  {
   "cell_type": "code",
   "execution_count": 25,
   "metadata": {},
   "outputs": [
    {
     "name": "stdout",
     "output_type": "stream",
     "text": [
      "1949\n",
      "1949\n"
     ]
    }
   ],
   "source": [
    "# matched/unmatched detected poles and virtual poles\n",
    "with open(join('results', region, pole_model, 'unmatched_detected_poles_' + benchmark_version + '.pickle'), 'rb') as f:\n",
    "    unmatched_index_detected = pickle.load(f)\n",
    "with open(join('results', region, pole_model, 'unmatched_virtual_poles_' + benchmark_version + '.pickle'), 'rb') as f:\n",
    "    unmatched_index_virtual = pickle.load(f)\n",
    "with open(join('results', region, pole_model, 'matched_detected_poles_' + benchmark_version + '.pickle'), 'rb') as f:\n",
    "    matching_detected = pickle.load(f)\n",
    "with open(join('results', region, pole_model, 'matched_virtual_poles_' + benchmark_version + '.pickle'), 'rb') as f:\n",
    "    matching_virtual = pickle.load(f)\n",
    "\n",
    "matching_predicted2true = {}\n",
    "matching_true2predicted = {}\n",
    "for true_pole_idx, detected_pole_idx, _ in matching_detected:\n",
    "    matching_predicted2true[detected_pole_idx] = true_pole_idx\n",
    "    matching_true2predicted[true_pole_idx] = detected_pole_idx\n",
    "for true_pole_idx, virtual_pole_idx, _ in matching_virtual:\n",
    "    matching_predicted2true[virtual_pole_idx] = true_pole_idx\n",
    "    matching_true2predicted[true_pole_idx] = virtual_pole_idx\n",
    "print(len(matching_predicted2true))\n",
    "print(len(matching_true2predicted))"
   ]
  },
  {
   "cell_type": "code",
   "execution_count": 26,
   "metadata": {},
   "outputs": [],
   "source": [
    "# discretization parameters\n",
    "with open('results/' + region + '/discretization_parameters.pickle', 'rb') as f:\n",
    "    discretization_params = pickle.load(f)\n",
    "lat_s = discretization_params['lat_s']\n",
    "lat_n = discretization_params['lat_n']\n",
    "lon_w = discretization_params['lon_w']\n",
    "lon_e = discretization_params['lon_e']\n",
    "dlat0 = discretization_params['dlat0']\n",
    "dlon0 = discretization_params['dlon0']"
   ]
  },
  {
   "cell_type": "code",
   "execution_count": 27,
   "metadata": {},
   "outputs": [],
   "source": [
    "# ring\n",
    "with open('data/ring_xy_diff_dict_200.pickle', 'rb') as f:\n",
    "    ring_xy_diff_dict = pickle.load(f)"
   ]
  },
  {
   "cell_type": "markdown",
   "metadata": {},
   "source": [
    "# 2. Generate candidate pairs and raw feature extraction"
   ]
  },
  {
   "cell_type": "code",
   "execution_count": 28,
   "metadata": {},
   "outputs": [
    {
     "name": "stdout",
     "output_type": "stream",
     "text": [
      "x_max:  36\n",
      "y_max:  31\n"
     ]
    }
   ],
   "source": [
    "sh200 = SpatialHashing(unit = 200, lat_s = lat_s, lon_w = lon_w, lat_n = lat_n, lon_e = lon_e,\n",
    "                    dlat0 = dlat0, dlon0 = dlon0)"
   ]
  },
  {
   "cell_type": "code",
   "execution_count": 29,
   "metadata": {},
   "outputs": [
    {
     "data": {
      "text/plain": [
       "8496"
      ]
     },
     "execution_count": 29,
     "metadata": {},
     "output_type": "execute_result"
    }
   ],
   "source": [
    "candidate_pairs = generate_candidate_pair(all_predicted_poles, candidate_pair_threshold, sh200)\n",
    "len(candidate_pairs)"
   ]
  },
  {
   "cell_type": "code",
   "execution_count": 30,
   "metadata": {},
   "outputs": [],
   "source": [
    "pid2way = {} # detected pole ID -> list of way IDs to which it is attached\n",
    "for way_id in polyline_dict_updated:\n",
    "    for pid in polyline_dict_updated[way_id].detected_poles:\n",
    "        if not pid in pid2way:\n",
    "            pid2way[pid] = []\n",
    "        pid2way[pid].append(way_id)\n",
    "    for pid in polyline_dict_updated[way_id].virtual_poles:\n",
    "        if not pid in pid2way:\n",
    "            pid2way[pid] = []\n",
    "        pid2way[pid].append(way_id)"
   ]
  },
  {
   "cell_type": "code",
   "execution_count": 31,
   "metadata": {},
   "outputs": [],
   "source": [
    "for way_id in polyline_dict_updated:\n",
    "    polyline_dict_updated[way_id].collect_info()"
   ]
  },
  {
   "cell_type": "code",
   "execution_count": 32,
   "metadata": {},
   "outputs": [
    {
     "data": {
      "text/plain": [
       "2329"
      ]
     },
     "execution_count": 32,
     "metadata": {},
     "output_type": "execute_result"
    }
   ],
   "source": [
    "# Load Dijkstra's predicted edge set\n",
    "with open(join('results', region, pole_model, 'dijkstra_edge_set_assimilate_unattached_noscaling.pickle'), 'rb') as f:\n",
    "    dijkstra_edge_set = pickle.load(f)\n",
    "len(dijkstra_edge_set)"
   ]
  },
  {
   "cell_type": "code",
   "execution_count": 33,
   "metadata": {},
   "outputs": [],
   "source": [
    "# raw feature extraction\n",
    "feature_dict = raw_feature_extraction(candidate_pairs, pid2way, polyline_dict_updated, dijkstra_edge_set,\n",
    "                                      pole2svidx)"
   ]
  },
  {
   "cell_type": "markdown",
   "metadata": {},
   "source": [
    "# 3. Dataset partition by census tracts for cross-validation"
   ]
  },
  {
   "cell_type": "code",
   "execution_count": 34,
   "metadata": {},
   "outputs": [],
   "source": [
    "# outcome: true_poles_by_fips, predicted_poles_by_fips, true_edge_set_by_fips, feature_dict_by_fips"
   ]
  },
  {
   "cell_type": "code",
   "execution_count": 35,
   "metadata": {},
   "outputs": [],
   "source": [
    "locator = census_tract_locator.CensusTract(tract_data_dir=join(data_dir, 'tract_boundaries_us_for_locator.pickle'))"
   ]
  },
  {
   "cell_type": "code",
   "execution_count": 36,
   "metadata": {},
   "outputs": [
    {
     "name": "stdout",
     "output_type": "stream",
     "text": [
      "2437\n",
      "2442\n"
     ]
    }
   ],
   "source": [
    "# load true poles and true edges\n",
    "with open('ground_truth/' + region + '/ground_truth_poles_' + benchmark_version + '.pickle', 'rb') as f:\n",
    "    true_poles = pickle.load(f)\n",
    "with open('ground_truth/' + region + '/ground_truth_connections_' + benchmark_version + '.pickle', 'rb') as f:\n",
    "    true_edge_set = pickle.load(f)\n",
    "true_pole_list = list(true_poles.values())\n",
    "print(len(true_poles))\n",
    "print(len(true_edge_set))"
   ]
  },
  {
   "cell_type": "code",
   "execution_count": 37,
   "metadata": {},
   "outputs": [],
   "source": [
    "bd = []\n",
    "path_dict = {}\n",
    "for key in boundaries_keys:\n",
    "    boundary = locator.tract_data['tract_boundaries'][str.format('%011d' % key)].tolist()\n",
    "    bd.extend(boundary)\n",
    "    path_dict[key] = Path(boundary)\n",
    "\n",
    "lat_min, lon_min = np.min(bd, axis=0)\n",
    "lat_max, lon_max = np.max(bd, axis=0)"
   ]
  },
  {
   "cell_type": "code",
   "execution_count": 38,
   "metadata": {},
   "outputs": [
    {
     "data": {
      "text/plain": [
       "32"
      ]
     },
     "execution_count": 38,
     "metadata": {},
     "output_type": "execute_result"
    }
   ],
   "source": [
    "true_pole_fips_dict = {}\n",
    "oob_points = [] # points that are out of boundaries\n",
    "for idx in true_poles:\n",
    "    lat, lon = true_poles[idx]\n",
    "    for fips in path_dict:\n",
    "        if path_dict[fips].contains_points([[lat, lon]]):\n",
    "            true_pole_fips_dict[idx] = fips\n",
    "            break\n",
    "    else:\n",
    "        oob_points.append((idx, lat, lon))\n",
    "len(oob_points)"
   ]
  },
  {
   "cell_type": "code",
   "execution_count": 39,
   "metadata": {},
   "outputs": [
    {
     "data": {
      "text/plain": [
       "2437"
      ]
     },
     "execution_count": 39,
     "metadata": {},
     "output_type": "execute_result"
    }
   ],
   "source": [
    "matching = {}\n",
    "for idx, lat, lon in oob_points:\n",
    "    dist_list = []\n",
    "    for idx2 in true_poles:\n",
    "        if idx2 != idx and idx2 in true_pole_fips_dict:\n",
    "            lat2, lon2 = true_poles[idx2]\n",
    "            dist = calculate_dist(lat, lon, lat2, lon2)\n",
    "            dist_list.append((idx2, dist))\n",
    "    neighbor_idx, min_dist = min(dist_list, key=lambda x: x[1])\n",
    "    matching[idx] = neighbor_idx\n",
    "for idx in matching:\n",
    "    true_pole_fips_dict[idx] = true_pole_fips_dict[matching[idx]] \n",
    "len(true_pole_fips_dict)"
   ]
  },
  {
   "cell_type": "code",
   "execution_count": 40,
   "metadata": {},
   "outputs": [
    {
     "name": "stdout",
     "output_type": "stream",
     "text": [
      "2\n"
     ]
    }
   ],
   "source": [
    "unmatched_predicted_pole_fips_dict = {}\n",
    "oob_points = [] # points that are out of boundaries\n",
    "for idx in unmatched_index_detected:\n",
    "    lat, lon = unmatched_index_detected[idx]\n",
    "    for fips in path_dict:\n",
    "        if path_dict[fips].contains_points([[lat, lon]]):\n",
    "            unmatched_predicted_pole_fips_dict[idx] = fips\n",
    "            break\n",
    "    else:\n",
    "        oob_points.append((idx, lat, lon))\n",
    "    \n",
    "for idx in unmatched_index_virtual:\n",
    "    lat, lon = unmatched_index_virtual[idx]\n",
    "    for fips in path_dict:\n",
    "        if path_dict[fips].contains_points([[lat, lon]]):\n",
    "            unmatched_predicted_pole_fips_dict[idx] = fips\n",
    "            break\n",
    "    else:\n",
    "        oob_points.append((idx, lat, lon))\n",
    "print(len(oob_points))"
   ]
  },
  {
   "cell_type": "code",
   "execution_count": 41,
   "metadata": {},
   "outputs": [
    {
     "data": {
      "text/plain": [
       "381"
      ]
     },
     "execution_count": 41,
     "metadata": {},
     "output_type": "execute_result"
    }
   ],
   "source": [
    "matching = {}\n",
    "for idx, lat, lon in oob_points:\n",
    "    dist_list = []\n",
    "    for idx2 in unmatched_index_detected:\n",
    "        if idx2 != idx and idx2 in unmatched_predicted_pole_fips_dict:\n",
    "            lat2, lon2 = unmatched_index_detected[idx2]\n",
    "            dist = calculate_dist(lat, lon, lat2, lon2)\n",
    "            dist_list.append((idx2, dist))\n",
    "    for idx2 in unmatched_index_virtual:\n",
    "        if idx2 != idx and idx2 in unmatched_predicted_pole_fips_dict:\n",
    "            lat2, lon2 = unmatched_index_virtual[idx2]\n",
    "            dist = calculate_dist(lat, lon, lat2, lon2)\n",
    "            dist_list.append((idx2, dist))\n",
    "    neighbor_idx, min_dist = min(dist_list, key=lambda x: x[1])\n",
    "    matching[idx] = neighbor_idx\n",
    "for idx in matching:\n",
    "    unmatched_predicted_pole_fips_dict[idx] = unmatched_predicted_pole_fips_dict[matching[idx]] \n",
    "len(unmatched_predicted_pole_fips_dict)"
   ]
  },
  {
   "cell_type": "code",
   "execution_count": 42,
   "metadata": {},
   "outputs": [
    {
     "data": {
      "text/plain": [
       "2330"
      ]
     },
     "execution_count": 42,
     "metadata": {},
     "output_type": "execute_result"
    }
   ],
   "source": [
    "matched_predicted_pole_fips_dict = {}\n",
    "for true_pole_idx, detected_pole_idx, _ in matching_detected:\n",
    "    matched_predicted_pole_fips_dict[detected_pole_idx] = true_pole_fips_dict[true_pole_idx]\n",
    "for true_pole_idx, virtual_pole_idx, _ in matching_virtual:\n",
    "    matched_predicted_pole_fips_dict[virtual_pole_idx] = true_pole_fips_dict[true_pole_idx]\n",
    "\n",
    "predicted_pole_fips_dict = {} # including both matched and unmatched\n",
    "for idx in matched_predicted_pole_fips_dict:\n",
    "    predicted_pole_fips_dict[idx] = matched_predicted_pole_fips_dict[idx]\n",
    "for idx in unmatched_predicted_pole_fips_dict:\n",
    "    predicted_pole_fips_dict[idx] = unmatched_predicted_pole_fips_dict[idx]\n",
    "len(predicted_pole_fips_dict)"
   ]
  },
  {
   "cell_type": "code",
   "execution_count": 43,
   "metadata": {
    "scrolled": true
   },
   "outputs": [
    {
     "name": "stdout",
     "output_type": "stream",
     "text": [
      "6081609603 number of true poles:  402\n",
      "6081609500 number of true poles:  365\n",
      "6081609300 number of true poles:  251\n",
      "6081609100 number of true poles:  370\n",
      "6081609202 number of true poles:  221\n",
      "6081609201 number of true poles:  267\n",
      "6081609400 number of true poles:  240\n",
      "6081609601 number of true poles:  193\n",
      "6081609602 number of true poles:  128\n"
     ]
    }
   ],
   "source": [
    "true_poles_by_fips = {}\n",
    "for idx in true_pole_fips_dict:\n",
    "    fips = true_pole_fips_dict[idx]\n",
    "    if not fips in true_poles_by_fips:\n",
    "        true_poles_by_fips[fips] = []\n",
    "    true_poles_by_fips[fips].append(idx)\n",
    "for fips in true_poles_by_fips:\n",
    "    print(fips, 'number of true poles: ', len(true_poles_by_fips[fips]))"
   ]
  },
  {
   "cell_type": "code",
   "execution_count": 44,
   "metadata": {},
   "outputs": [
    {
     "name": "stdout",
     "output_type": "stream",
     "text": [
      "6081609603 number of predicted poles:  350\n",
      "6081609500 number of predicted poles:  363\n",
      "6081609300 number of predicted poles:  296\n",
      "6081609100 number of predicted poles:  318\n",
      "6081609202 number of predicted poles:  190\n",
      "6081609201 number of predicted poles:  282\n",
      "6081609400 number of predicted poles:  213\n",
      "6081609601 number of predicted poles:  179\n",
      "6081609602 number of predicted poles:  139\n"
     ]
    }
   ],
   "source": [
    "predicted_poles_by_fips = {}\n",
    "for idx in predicted_pole_fips_dict:\n",
    "    fips = predicted_pole_fips_dict[idx]\n",
    "    if not fips in predicted_poles_by_fips:\n",
    "        predicted_poles_by_fips[fips] = []\n",
    "    predicted_poles_by_fips[fips].append(idx)\n",
    "for fips in true_poles_by_fips:\n",
    "    print(fips, 'number of predicted poles: ', len(predicted_poles_by_fips[fips]))"
   ]
  },
  {
   "cell_type": "code",
   "execution_count": 45,
   "metadata": {
    "scrolled": true
   },
   "outputs": [
    {
     "data": {
      "image/png": "[encoded data removed]",
      "text/plain": [
       "<Figure size 1440x1440 with 1 Axes>"
      ]
     },
     "metadata": {},
     "output_type": "display_data"
    }
   ],
   "source": [
    "plt.figure(figsize=(20, 20))  # visualize the dataset partition by FIPS\n",
    "for i, fips in enumerate(boundaries_keys):\n",
    "    color = color_list[i]\n",
    "    idx_list = true_poles_by_fips[fips]\n",
    "    coord_list = [true_poles[x] for x in idx_list]\n",
    "    plt.scatter([x[1] for x in coord_list], [x[0] for x in coord_list], color=color, s=5)\n",
    "plt.tight_layout()"
   ]
  },
  {
   "cell_type": "code",
   "execution_count": 46,
   "metadata": {},
   "outputs": [
    {
     "name": "stdout",
     "output_type": "stream",
     "text": [
      "Total # true edges:  2442 after partition 2329\n",
      "6081609603 number of true edges:  396\n",
      "6081609500 number of true edges:  341\n",
      "6081609300 number of true edges:  248\n",
      "6081609100 number of true edges:  350\n",
      "6081609202 number of true edges:  213\n",
      "6081609201 number of true edges:  265\n",
      "6081609400 number of true edges:  236\n",
      "6081609601 number of true edges:  169\n",
      "6081609602 number of true edges:  111\n"
     ]
    }
   ],
   "source": [
    "# true edge set by fips\n",
    "count = 0\n",
    "true_edge_set_by_fips = {}\n",
    "for edge in true_edge_set:\n",
    "    idx1, idx2 = edge\n",
    "    if true_pole_fips_dict[idx1] == true_pole_fips_dict[idx2]:\n",
    "        fips = true_pole_fips_dict[idx1]\n",
    "        if not fips in true_edge_set_by_fips:\n",
    "            true_edge_set_by_fips[fips] = set()\n",
    "        true_edge_set_by_fips[fips].add(edge)\n",
    "        count += 1\n",
    "print('Total # true edges: ', len(true_edge_set), 'after partition', count)\n",
    "for fips in true_poles_by_fips:\n",
    "    print(fips, 'number of true edges: ', len(true_edge_set_by_fips[fips]))"
   ]
  },
  {
   "cell_type": "code",
   "execution_count": 47,
   "metadata": {
    "scrolled": true
   },
   "outputs": [
    {
     "name": "stdout",
     "output_type": "stream",
     "text": [
      "Total # pair candidates:  8496 after partition 7738\n",
      "6081609603 number of pair candidates:  949\n",
      "6081609500 number of pair candidates:  1242\n",
      "6081609300 number of pair candidates:  1322\n",
      "6081609100 number of pair candidates:  1140\n",
      "6081609202 number of pair candidates:  607\n",
      "6081609201 number of pair candidates:  1098\n",
      "6081609400 number of pair candidates:  616\n",
      "6081609601 number of pair candidates:  414\n",
      "6081609602 number of pair candidates:  350\n"
     ]
    }
   ],
   "source": [
    "# feature dict by fips\n",
    "count = 0\n",
    "feature_dict_by_fips = {}\n",
    "for edge in feature_dict:\n",
    "    idx1, idx2 = edge\n",
    "    if predicted_pole_fips_dict[idx1] == predicted_pole_fips_dict[idx2]:\n",
    "        fips = predicted_pole_fips_dict[idx1]\n",
    "        if not fips in feature_dict_by_fips:\n",
    "            feature_dict_by_fips[fips] = dict()\n",
    "        feature_dict_by_fips[fips][edge] = feature_dict[edge]\n",
    "        count += 1\n",
    "print('Total # pair candidates: ', len(feature_dict), 'after partition', count)\n",
    "for fips in true_poles_by_fips:\n",
    "    print(fips, 'number of pair candidates: ', len(feature_dict_by_fips[fips]))"
   ]
  },
  {
   "cell_type": "markdown",
   "metadata": {},
   "source": [
    "# 4. Feature engineering"
   ]
  },
  {
   "cell_type": "code",
   "execution_count": 60,
   "metadata": {},
   "outputs": [],
   "source": [
    "processed_feature_dict_by_fips = {}\n",
    "for fips in feature_dict_by_fips:\n",
    "    processed_feature_dict_by_fips[fips] = []\n",
    "    for pole_pair in feature_dict_by_fips[fips]:\n",
    "        raw_feature_list = feature_dict_by_fips[fips][pole_pair]\n",
    "        feature_list = feature_transformation_1(pole_pair, raw_feature_list, idx2line, all_predicted_poles)\n",
    "        processed_feature_dict_by_fips[fips].append(feature_list)"
   ]
  },
  {
   "cell_type": "code",
   "execution_count": 61,
   "metadata": {},
   "outputs": [
    {
     "name": "stdout",
     "output_type": "stream",
     "text": [
      "fips:  6081609603 , # true edges covered:  273 / 396 , # candidates with incorrect pole:  208 / 949\n",
      "fips:  6081609100 , # true edges covered:  243 / 350 , # candidates with incorrect pole:  282 / 1140\n",
      "fips:  6081609202 , # true edges covered:  112 / 213 , # candidates with incorrect pole:  248 / 607\n",
      "fips:  6081609601 , # true edges covered:  123 / 169 , # candidates with incorrect pole:  95 / 414\n",
      "fips:  6081609602 , # true edges covered:  97 / 111 , # candidates with incorrect pole:  109 / 350\n",
      "fips:  6081609300 , # true edges covered:  215 / 248 , # candidates with incorrect pole:  493 / 1322\n",
      "fips:  6081609201 , # true edges covered:  209 / 265 , # candidates with incorrect pole:  379 / 1098\n",
      "fips:  6081609400 , # true edges covered:  162 / 236 , # candidates with incorrect pole:  167 / 616\n",
      "fips:  6081609500 , # true edges covered:  254 / 341 , # candidates with incorrect pole:  378 / 1242\n"
     ]
    }
   ],
   "source": [
    "label_dict_by_fips = {}\n",
    "# candidate_edge_by_fips = {}\n",
    "for fips in feature_dict_by_fips:\n",
    "    label_dict_by_fips[fips] = []\n",
    "#     candidate_edge_by_fips[fips] = set()\n",
    "    covered_count = 0\n",
    "    incorrect_pole_count = 0\n",
    "    for pole_pair in feature_dict_by_fips[fips]:\n",
    "        pid1, pid2 = pole_pair\n",
    "        if pid1 in matching_predicted2true and pid2 in matching_predicted2true:\n",
    "            true_pid1 = matching_predicted2true[pid1]\n",
    "            true_pid2 = matching_predicted2true[pid2]\n",
    "            edge = tuple(sorted((true_pid1, true_pid2)))\n",
    "#             candidate_edge_by_fips[fips].add(edge)\n",
    "            if edge in true_edge_set_by_fips[fips]:\n",
    "                covered_count += 1\n",
    "                label = 1\n",
    "            else:\n",
    "                label = 0\n",
    "        else:\n",
    "            incorrect_pole_count += 1\n",
    "            label = 0\n",
    "        label_dict_by_fips[fips].append(label)\n",
    "    print('fips: ', fips, ', # true edges covered: ', covered_count, '/', len(true_edge_set_by_fips[fips]), \n",
    "          ', # candidates with incorrect pole: ', incorrect_pole_count, '/', len(feature_dict_by_fips[fips]))"
   ]
  },
  {
   "cell_type": "markdown",
   "metadata": {},
   "source": [
    "# 5. Model training and testing"
   ]
  },
  {
   "cell_type": "code",
   "execution_count": 62,
   "metadata": {},
   "outputs": [],
   "source": [
    "from sklearn.linear_model import LogisticRegression\n",
    "from sklearn.tree import DecisionTreeClassifier\n",
    "from sklearn.ensemble import RandomForestClassifier\n",
    "from sklearn.svm import SVC\n",
    "import xgboost as xgb"
   ]
  },
  {
   "cell_type": "code",
   "execution_count": 63,
   "metadata": {},
   "outputs": [],
   "source": [
    "def metrics(y_true, y_pred):\n",
    "    TP = np.sum((y_true == 1) * (y_pred == 1))\n",
    "    TN = np.sum((y_true == 0) * (y_pred == 0))\n",
    "    FP = np.sum((y_true == 0) * (y_pred == 1))\n",
    "    FN = np.sum((y_true == 1) * (y_pred == 0))\n",
    "    precision = (TP + 1e-8) / (TP + FP + 1e-8)\n",
    "    recall = (TP + 1e-8) / (TP + FN + 1e-8)\n",
    "    F1 = 2 * precision * recall / (precision + recall)\n",
    "    return round(precision, 4), round(recall, 4), round(F1, 4)"
   ]
  },
  {
   "cell_type": "markdown",
   "metadata": {},
   "source": [
    "## 5.1 Cross validation"
   ]
  },
  {
   "cell_type": "code",
   "execution_count": 64,
   "metadata": {},
   "outputs": [
    {
     "data": {
      "text/plain": [
       "21"
      ]
     },
     "execution_count": 64,
     "metadata": {},
     "output_type": "execute_result"
    }
   ],
   "source": [
    "all_feature_names = [\n",
    "    'distance', 'on_same_road', 'adjacent', 'sv_pos_rate', 'min_sv_pole_angle_diff', 'avg_sv_pole_angle_diff', \n",
    "    'angle_diff_between_poles','dijkstra', 'isdetected1', 'isdetected2', 'both_detected', 'at_intersection_1', \n",
    "    'at_intersection_2', 'both_at_intersection', 'at_same_intersections', 'sv_pos_rate_adj', 'sv_pos_rate_adj2', \n",
    "    'min_sv_pole_angle_diff_adj', 'avg_sv_pole_angle_diff_adj', 'angle_diff_between_poles_adj',\n",
    "    'either_at_intersection_nonadjacent'\n",
    "]\n",
    "len(all_feature_names)"
   ]
  },
  {
   "cell_type": "code",
   "execution_count": 65,
   "metadata": {},
   "outputs": [
    {
     "name": "stdout",
     "output_type": "stream",
     "text": [
      "FIPS for testing:  6081609100\n",
      "    Training precision, recall, and F1: 0.7346 0.9135 0.8143\n",
      "    Testing precision, recall, and F1: 0.7289 0.8519 0.7856\n",
      "FIPS for testing:  6081609201\n",
      "    Training precision, recall, and F1: 0.7327 0.9006 0.808\n",
      "    Testing precision, recall, and F1: 0.7557 0.9474 0.8408\n",
      "FIPS for testing:  6081609202\n",
      "    Training precision, recall, and F1: 0.7405 0.9105 0.8167\n",
      "    Testing precision, recall, and F1: 0.669 0.8482 0.748\n",
      "FIPS for testing:  6081609300\n",
      "    Training precision, recall, and F1: 0.7414 0.9029 0.8142\n",
      "    Testing precision, recall, and F1: 0.6993 0.9302 0.7984\n",
      "FIPS for testing:  6081609400\n",
      "    Training precision, recall, and F1: 0.735 0.9089 0.8128\n",
      "    Testing precision, recall, and F1: 0.7409 0.8827 0.8056\n",
      "FIPS for testing:  6081609500\n",
      "    Training precision, recall, and F1: 0.7434 0.9073 0.8172\n",
      "    Testing precision, recall, and F1: 0.6953 0.9252 0.7939\n",
      "FIPS for testing:  6081609601\n",
      "    Training precision, recall, and F1: 0.7328 0.9061 0.8103\n",
      "    Testing precision, recall, and F1: 0.7817 0.9024 0.8377\n",
      "FIPS for testing:  6081609602\n",
      "    Training precision, recall, and F1: 0.7347 0.907 0.8118\n",
      "    Testing precision, recall, and F1: 0.7603 0.9485 0.844\n",
      "FIPS for testing:  6081609603\n",
      "    Training precision, recall, and F1: 0.7354 0.9053 0.8115\n",
      "    Testing precision, recall, and F1: 0.7792 0.8791 0.8262\n",
      "Average test F1 score:  0.8089111111111111\n"
     ]
    }
   ],
   "source": [
    "# sklearn Decision Tree Classifier\n",
    "avg_F1_test = 0\n",
    "y_test_pred_by_fips = {}\n",
    "for test_fips in sorted(boundaries_keys):\n",
    "    training_fips_list = copy.deepcopy(boundaries_keys)\n",
    "    training_fips_list.remove(test_fips)\n",
    "    training_feature_list = []\n",
    "    training_label_list = []\n",
    "    for fips in training_fips_list:\n",
    "        training_feature_list += processed_feature_dict_by_fips[fips]\n",
    "        training_label_list += label_dict_by_fips[fips]\n",
    "    X_train = np.array(training_feature_list)\n",
    "    y_train = np.array(training_label_list)\n",
    "    X_test = np.array(processed_feature_dict_by_fips[test_fips])\n",
    "    y_test = np.array(label_dict_by_fips[test_fips])\n",
    "    model = DecisionTreeClassifier(max_depth=4, class_weight=None)\n",
    "#     model = LogisticRegression(class_weight=None)\n",
    "#     model = SVC(class_weight=None)\n",
    "    model.fit(X_train, y_train)\n",
    "    y_train_pred = model.predict(X_train)\n",
    "    y_test_pred = model.predict(X_test)\n",
    "    y_test_pred_by_fips[test_fips] = y_test_pred\n",
    "    precision_train, recall_train, F1_train = metrics(y_train, y_train_pred)\n",
    "    precision_test, recall_test, F1_test = metrics(y_test, y_test_pred)\n",
    "    print(\"FIPS for testing: \", test_fips)\n",
    "    print(\"    Training precision, recall, and F1:\", precision_train, recall_train, F1_train)\n",
    "    print(\"    Testing precision, recall, and F1:\", precision_test, recall_test, F1_test)\n",
    "    avg_F1_test += F1_test\n",
    "avg_F1_test = avg_F1_test / len(boundaries_keys)\n",
    "print('Average test F1 score: ', avg_F1_test)\n",
    "#     print((model.feature_importances_))"
   ]
  },
  {
   "cell_type": "code",
   "execution_count": 66,
   "metadata": {},
   "outputs": [],
   "source": [
    "# Feature transform for Gradient Boosting model\n",
    "processed_feature_dict_by_fips = {}\n",
    "for fips in feature_dict_by_fips:\n",
    "    processed_feature_dict_by_fips[fips] = []\n",
    "    for pole_pair in feature_dict_by_fips[fips]:\n",
    "        raw_feature_list = feature_dict_by_fips[fips][pole_pair]\n",
    "        feature_list = feature_transformation_2(pole_pair, raw_feature_list, idx2line, all_predicted_poles)\n",
    "        processed_feature_dict_by_fips[fips].append(feature_list)"
   ]
  },
  {
   "cell_type": "code",
   "execution_count": 67,
   "metadata": {},
   "outputs": [
    {
     "name": "stdout",
     "output_type": "stream",
     "text": [
      "[12:19:14] WARNING: ../src/learner.cc:1061: Starting in XGBoost 1.3.0, the default evaluation metric used with the objective 'binary:logistic' was changed from 'error' to 'logloss'. Explicitly set eval_metric if you'd like to restore the old behavior.\n",
      "FIPS for testing:  6081609100\n",
      "    Training precision, recall, and F1: 0.7461 0.9315 0.8286\n",
      "    Testing precision, recall, and F1: 0.7157 0.8807 0.7897\n",
      "[12:19:15] WARNING: ../src/learner.cc:1061: Starting in XGBoost 1.3.0, the default evaluation metric used with the objective 'binary:logistic' was changed from 'error' to 'logloss'. Explicitly set eval_metric if you'd like to restore the old behavior.\n",
      "FIPS for testing:  6081609201\n",
      "    Training precision, recall, and F1: 0.743 0.9189 0.8216\n",
      "    Testing precision, recall, and F1: 0.7615 0.9474 0.8443\n",
      "[12:19:15] WARNING: ../src/learner.cc:1061: Starting in XGBoost 1.3.0, the default evaluation metric used with the objective 'binary:logistic' was changed from 'error' to 'logloss'. Explicitly set eval_metric if you'd like to restore the old behavior.\n",
      "FIPS for testing:  6081609202\n",
      "    Training precision, recall, and F1: 0.7478 0.9277 0.8281\n",
      "    Testing precision, recall, and F1: 0.6879 0.8661 0.7668\n",
      "[12:19:15] WARNING: ../src/learner.cc:1061: Starting in XGBoost 1.3.0, the default evaluation metric used with the objective 'binary:logistic' was changed from 'error' to 'logloss'. Explicitly set eval_metric if you'd like to restore the old behavior.\n",
      "FIPS for testing:  6081609300\n",
      "    Training precision, recall, and F1: 0.7521 0.9165 0.8262\n",
      "    Testing precision, recall, and F1: 0.7014 0.9395 0.8032\n",
      "[12:19:15] WARNING: ../src/learner.cc:1061: Starting in XGBoost 1.3.0, the default evaluation metric used with the objective 'binary:logistic' was changed from 'error' to 'logloss'. Explicitly set eval_metric if you'd like to restore the old behavior.\n",
      "FIPS for testing:  6081609400\n",
      "    Training precision, recall, and F1: 0.7475 0.9155 0.823\n",
      "    Testing precision, recall, and F1: 0.7435 0.8765 0.8045\n",
      "[12:19:15] WARNING: ../src/learner.cc:1061: Starting in XGBoost 1.3.0, the default evaluation metric used with the objective 'binary:logistic' was changed from 'error' to 'logloss'. Explicitly set eval_metric if you'd like to restore the old behavior.\n",
      "FIPS for testing:  6081609500\n",
      "    Training precision, recall, and F1: 0.7553 0.9128 0.8266\n",
      "    Testing precision, recall, and F1: 0.7178 0.9213 0.8069\n",
      "[12:19:15] WARNING: ../src/learner.cc:1061: Starting in XGBoost 1.3.0, the default evaluation metric used with the objective 'binary:logistic' was changed from 'error' to 'logloss'. Explicitly set eval_metric if you'd like to restore the old behavior.\n",
      "FIPS for testing:  6081609601\n",
      "    Training precision, recall, and F1: 0.7398 0.9246 0.8219\n",
      "    Testing precision, recall, and F1: 0.7857 0.8943 0.8365\n",
      "[12:19:15] WARNING: ../src/learner.cc:1061: Starting in XGBoost 1.3.0, the default evaluation metric used with the objective 'binary:logistic' was changed from 'error' to 'logloss'. Explicitly set eval_metric if you'd like to restore the old behavior.\n",
      "FIPS for testing:  6081609602\n",
      "    Training precision, recall, and F1: 0.736 0.9202 0.8179\n",
      "    Testing precision, recall, and F1: 0.7705 0.9691 0.8584\n",
      "[12:19:15] WARNING: ../src/learner.cc:1061: Starting in XGBoost 1.3.0, the default evaluation metric used with the objective 'binary:logistic' was changed from 'error' to 'logloss'. Explicitly set eval_metric if you'd like to restore the old behavior.\n",
      "FIPS for testing:  6081609603\n",
      "    Training precision, recall, and F1: 0.7393 0.9237 0.8212\n",
      "    Testing precision, recall, and F1: 0.7876 0.8828 0.8325\n",
      "Average test F1 score:  0.8158666666666665\n"
     ]
    }
   ],
   "source": [
    "# XGBoost (Gradient Boosting)\n",
    "selected_feature_names = all_feature_names.copy()\n",
    "processed_feature_dict_by_fips = {}\n",
    "for fips in feature_dict_by_fips:\n",
    "    processed_feature_dict_by_fips[fips] = []\n",
    "    for pole_pair in feature_dict_by_fips[fips]:\n",
    "        raw_feature_list = feature_dict_by_fips[fips][pole_pair]\n",
    "        feature_list = feature_transformation_flexible(pole_pair, raw_feature_list, idx2line, all_predicted_poles, selected_feature_names)\n",
    "        processed_feature_dict_by_fips[fips].append(feature_list)\n",
    "avg_F1_test = 0\n",
    "y_test_pred_by_fips = {}\n",
    "boundaries_keys = sorted(feature_dict_by_fips.keys())\n",
    "for test_fips in boundaries_keys:\n",
    "    training_fips_list = copy.deepcopy(boundaries_keys)\n",
    "    training_fips_list.remove(test_fips)\n",
    "    training_feature_list = []\n",
    "    training_label_list = []\n",
    "    for fips in training_fips_list:\n",
    "        training_feature_list += processed_feature_dict_by_fips[fips]\n",
    "        training_label_list += label_dict_by_fips[fips]\n",
    "    X_train = np.array(training_feature_list)\n",
    "    y_train = np.array(training_label_list)\n",
    "    X_test = np.array(processed_feature_dict_by_fips[test_fips])\n",
    "    y_test = np.array(label_dict_by_fips[test_fips])\n",
    "    model = XGBoost(max_depth=3, eta=0.4, gamma=0, Lambda=2, num_round=13, threshold=0.35)\n",
    "    model.fit(X_train, y_train)\n",
    "    y_train_pred = model.predict(X_train)\n",
    "    y_test_pred = model.predict(X_test)\n",
    "    y_test_pred_by_fips[test_fips] = y_test_pred\n",
    "    precision_train, recall_train, F1_train = metrics(y_train, y_train_pred)\n",
    "    precision_test, recall_test, F1_test = metrics(y_test, y_test_pred)\n",
    "    print(\"FIPS for testing: \", test_fips)\n",
    "    print(\"    Training precision, recall, and F1:\", precision_train, recall_train, F1_train)\n",
    "    print(\"    Testing precision, recall, and F1:\", precision_test, recall_test, F1_test)\n",
    "    avg_F1_test += F1_test\n",
    "avg_F1_test = avg_F1_test / (len(boundaries_keys))\n",
    "print('Average test F1 score: ', avg_F1_test)"
   ]
  },
  {
   "cell_type": "markdown",
   "metadata": {},
   "source": [
    "## 5.2 Overall performance (consider edges between undetected poles)"
   ]
  },
  {
   "cell_type": "code",
   "execution_count": 68,
   "metadata": {},
   "outputs": [
    {
     "name": "stdout",
     "output_type": "stream",
     "text": [
      "Census tract FIPS:  6081609100\n",
      "    TP: 214 FP: 85 FN: 136\n",
      "    precision: 0.7157190635451505 recall: 0.6114285714285714 F1 score 0.6594761171032357\n",
      "Census tract FIPS:  6081609201\n",
      "    TP: 198 FP: 62 FN: 67\n",
      "    precision: 0.7615384615384615 recall: 0.7471698113207547 F1 score 0.7542857142857142\n",
      "Census tract FIPS:  6081609202\n",
      "    TP: 97 FP: 44 FN: 116\n",
      "    precision: 0.6879432624113475 recall: 0.45539906103286387 F1 score 0.5480225988700564\n",
      "Census tract FIPS:  6081609300\n",
      "    TP: 202 FP: 86 FN: 46\n",
      "    precision: 0.7013888888888888 recall: 0.8145161290322581 F1 score 0.753731343283582\n",
      "Census tract FIPS:  6081609400\n",
      "    TP: 142 FP: 49 FN: 94\n",
      "    precision: 0.743455497382199 recall: 0.6016949152542372 F1 score 0.6651053864168618\n",
      "Census tract FIPS:  6081609500\n",
      "    TP: 234 FP: 92 FN: 107\n",
      "    precision: 0.7177914110429447 recall: 0.6862170087976539 F1 score 0.7016491754122938\n",
      "Census tract FIPS:  6081609601\n",
      "    TP: 110 FP: 30 FN: 59\n",
      "    precision: 0.7857142857142857 recall: 0.650887573964497 F1 score 0.7119741100323624\n",
      "Census tract FIPS:  6081609602\n",
      "    TP: 94 FP: 28 FN: 17\n",
      "    precision: 0.7704918032786885 recall: 0.8468468468468469 F1 score 0.8068669527896997\n",
      "Census tract FIPS:  6081609603\n",
      "    TP: 241 FP: 65 FN: 155\n",
      "    precision: 0.7875816993464052 recall: 0.6085858585858586 F1 score 0.6866096866096866\n",
      "\n",
      "Overall precision: 0.7390255668113844 recall: 0.6577930442249893 F1: 0.6960472512494321 IoU:  0.5337979094076655\n"
     ]
    }
   ],
   "source": [
    "# Link-level\n",
    "TP_edge_all = 0\n",
    "FP_edge_all = 0\n",
    "FN_edge_all = 0\n",
    "FP_edge_set_by_fips = {}\n",
    "FN_edge_set_by_fips = {}\n",
    "TP_edge_set_by_fips = {}\n",
    "for fips in sorted(boundaries_keys):\n",
    "    predicted_edges = set()\n",
    "    FP_edge_set_by_fips[fips] = set()\n",
    "    FN_edge_set_by_fips[fips] = set()\n",
    "    TP_edge_set_by_fips[fips] = set()\n",
    "    TP_edge = 0\n",
    "    FP_edge = 0\n",
    "    FN_edge = 0\n",
    "    for i, p in enumerate(feature_dict_by_fips[fips]):\n",
    "        pid1, pid2 = p\n",
    "        if y_test_pred_by_fips[fips][i]:\n",
    "            if pid1 in matching_predicted2true and pid2 in matching_predicted2true:\n",
    "                true_pid1 = matching_predicted2true[pid1]\n",
    "                true_pid2 = matching_predicted2true[pid2]\n",
    "                edge = tuple(sorted((true_pid1, true_pid2)))\n",
    "                predicted_edges.add(edge)\n",
    "                if edge in true_edge_set_by_fips[fips]:\n",
    "                    TP_edge += 1\n",
    "                    TP_edge_set_by_fips[fips].add(edge)\n",
    "                else:\n",
    "                    FP_edge += 1\n",
    "                    FP_edge_set_by_fips[fips].add(p)\n",
    "            else:\n",
    "                FP_edge += 1\n",
    "                FP_edge_set_by_fips[fips].add(p)\n",
    "    for edge in true_edge_set_by_fips[fips]:\n",
    "        if not edge in predicted_edges:\n",
    "            FN_edge += 1\n",
    "            FN_edge_set_by_fips[fips].add(edge)\n",
    "    TP_edge_all += TP_edge\n",
    "    FP_edge_all += FP_edge\n",
    "    FN_edge_all += FN_edge\n",
    "    precision_edge = TP_edge / (TP_edge + FP_edge)\n",
    "    recall_edge = TP_edge / (TP_edge + FN_edge)\n",
    "    f1_edge = 2*precision_edge*recall_edge / (precision_edge + recall_edge)\n",
    "    print('Census tract FIPS: ', fips)\n",
    "    print('    TP:', TP_edge, 'FP:', FP_edge, 'FN:', FN_edge)\n",
    "    print('    precision:', precision_edge, 'recall:', recall_edge, 'F1 score', f1_edge)\n",
    "precision_edge_all = TP_edge_all / (TP_edge_all + FP_edge_all)\n",
    "recall_edge_all = TP_edge_all / (TP_edge_all + FN_edge_all)\n",
    "f1_edge_all = 2*precision_edge_all*recall_edge_all / (precision_edge_all + recall_edge_all)\n",
    "print()\n",
    "print('Overall precision:', precision_edge_all, 'recall:', recall_edge_all, 'F1:', f1_edge_all, \n",
    "      'IoU: ', TP_edge_all / (TP_edge_all + FP_edge_all + FN_edge_all))"
   ]
  },
  {
   "cell_type": "markdown",
   "metadata": {},
   "source": [
    "## 5.3 Remove \"skipping\" and \"redundancy\" cases"
   ]
  },
  {
   "cell_type": "code",
   "execution_count": 69,
   "metadata": {},
   "outputs": [
    {
     "name": "stdout",
     "output_type": "stream",
     "text": [
      "Census tract FIPS:  6081609100\n",
      "    TP: 229 FP: 73 FN: 121\n",
      "    precision: 0.7582781456953642 recall: 0.6542857142857142 F1 score 0.7024539877300614\n",
      "Census tract FIPS:  6081609201\n",
      "    TP: 203 FP: 58 FN: 62\n",
      "    precision: 0.7777777777777778 recall: 0.7660377358490567 F1 score 0.7718631178707225\n",
      "Census tract FIPS:  6081609202\n",
      "    TP: 111 FP: 34 FN: 102\n",
      "    precision: 0.7655172413793103 recall: 0.5211267605633803 F1 score 0.6201117318435754\n",
      "Census tract FIPS:  6081609300\n",
      "    TP: 208 FP: 83 FN: 40\n",
      "    precision: 0.7147766323024055 recall: 0.8387096774193549 F1 score 0.7717996289424862\n",
      "Census tract FIPS:  6081609400\n",
      "    TP: 155 FP: 35 FN: 81\n",
      "    precision: 0.8157894736842105 recall: 0.6567796610169492 F1 score 0.727699530516432\n",
      "Census tract FIPS:  6081609500\n",
      "    TP: 249 FP: 77 FN: 92\n",
      "    precision: 0.7638036809815951 recall: 0.7302052785923754 F1 score 0.7466266866566716\n",
      "Census tract FIPS:  6081609601\n",
      "    TP: 117 FP: 25 FN: 52\n",
      "    precision: 0.823943661971831 recall: 0.6923076923076923 F1 score 0.752411575562701\n",
      "Census tract FIPS:  6081609602\n",
      "    TP: 95 FP: 26 FN: 16\n",
      "    precision: 0.7851239669421488 recall: 0.8558558558558559 F1 score 0.8189655172413794\n",
      "Census tract FIPS:  6081609603\n",
      "    TP: 265 FP: 46 FN: 131\n",
      "    precision: 0.8520900321543409 recall: 0.6691919191919192 F1 score 0.7496463932107497\n",
      "\n",
      "Overall precision: 0.781235040689325 recall: 0.7007299270072993 F1: 0.7387958352195564\n"
     ]
    }
   ],
   "source": [
    "FN_edge_set_by_fips_updated = copy.deepcopy(FN_edge_set_by_fips)\n",
    "FP_edge_set_by_fips_updated = copy.deepcopy(FP_edge_set_by_fips)\n",
    "TP_edge_set_by_fips_updated = copy.deepcopy(TP_edge_set_by_fips)\n",
    "matching_FN_TP = []\n",
    "\n",
    "for fips in sorted(boundaries_keys): \n",
    "    nb_dict_FN = construct_neighbor_dict(FN_edge_set_by_fips[fips])\n",
    "    nb_dict_FP = construct_neighbor_dict(FP_edge_set_by_fips[fips])\n",
    "    endpoints_set_FN = find_single_way(nb_dict_FN)\n",
    "    endpoints_set_FP = find_single_way(nb_dict_FP)\n",
    "    used_FP_endpoints = set()\n",
    "    used_FN_endpoints = set()\n",
    "    for endpoints in endpoints_set_FP:\n",
    "        pid1, pid2 = endpoints\n",
    "        if pid1 in matching_predicted2true and pid2 in matching_predicted2true:\n",
    "            pid1_true = matching_predicted2true[pid1]\n",
    "            pid2_true = matching_predicted2true[pid2]\n",
    "            if (pid1_true, pid2_true) in endpoints_set_FN:\n",
    "                matched_FN = (pid1_true, pid2_true)\n",
    "            elif (pid2_true, pid1_true) in endpoints_set_FN:\n",
    "                matched_FN = (pid2_true, pid1_true)\n",
    "            else:\n",
    "                continue\n",
    "            if matched_FN in used_FN_endpoints or endpoints in used_FP_endpoints:\n",
    "                continue\n",
    "            endpoints_FPs = generate_end_points([endpoints_set_FP[endpoints][0][0]] + \n",
    "                                               [x[1] for x in endpoints_set_FP[endpoints]])\n",
    "            endpoints_FNs = generate_end_points([endpoints_set_FN[matched_FN][0][0]] + \n",
    "                                               [x[1] for x in endpoints_set_FN[matched_FN]])\n",
    "            for pair in endpoints_FPs:\n",
    "                if pair in endpoints_set_FP:\n",
    "                    used_FP_endpoints.add(pair)\n",
    "                elif (pair[1], pair[0]) in endpoints_set_FP:\n",
    "                    used_FP_endpoints.add((pair[1], pair[0]))\n",
    "            for pair in endpoints_FNs:\n",
    "                if pair in endpoints_set_FN:\n",
    "                    used_FN_endpoints.add(pair)\n",
    "                elif (pair[1], pair[0]) in endpoints_set_FN:\n",
    "                    used_FN_endpoints.add((pair[1], pair[0]))\n",
    "#             print(endpoints, len(endpoints_set_FP[endpoints]), matched_FN, len(endpoints_set_FN[matched_FN]))\n",
    "            for edge in endpoints_set_FP[endpoints]:\n",
    "                if edge in FP_edge_set_by_fips_updated[fips]:\n",
    "                    FP_edge_set_by_fips_updated[fips].remove(edge)\n",
    "                elif (edge[1], edge[0]) in FP_edge_set_by_fips_updated[fips]:\n",
    "                    FP_edge_set_by_fips_updated[fips].remove((edge[1], edge[0]))\n",
    "            \n",
    "            for edge in endpoints_set_FN[matched_FN]:\n",
    "                if edge in FN_edge_set_by_fips_updated[fips]:\n",
    "                    FN_edge_set_by_fips_updated[fips].remove(edge)\n",
    "                    TP_edge_set_by_fips_updated[fips].add(edge)\n",
    "                elif (edge[1], edge[0]) in FN_edge_set_by_fips_updated[fips]:\n",
    "                    FN_edge_set_by_fips_updated[fips].remove((edge[1], edge[0]))\n",
    "                    TP_edge_set_by_fips_updated[fips].add((edge[1], edge[0]))\n",
    "            \n",
    "            matching_FN_TP.append((endpoints_set_FN[matched_FN], endpoints_set_FP[endpoints]))\n",
    "\n",
    "TP_edge_all = 0\n",
    "FP_edge_all = 0\n",
    "FN_edge_all = 0\n",
    "for fips in sorted(boundaries_keys):\n",
    "    TP_edge = len(TP_edge_set_by_fips_updated[fips])\n",
    "    FP_edge = len(FP_edge_set_by_fips_updated[fips])\n",
    "    FN_edge = len(FN_edge_set_by_fips_updated[fips])\n",
    "    TP_edge_all += TP_edge\n",
    "    FP_edge_all += FP_edge\n",
    "    FN_edge_all += FN_edge\n",
    "    precision_edge = TP_edge / (TP_edge + FP_edge)\n",
    "    recall_edge = TP_edge / (TP_edge + FN_edge)\n",
    "    f1_edge = 2*precision_edge*recall_edge / (precision_edge + recall_edge)\n",
    "    print('Census tract FIPS: ', fips)\n",
    "    print('    TP:', TP_edge, 'FP:', FP_edge, 'FN:', FN_edge)\n",
    "    print('    precision:', precision_edge, 'recall:', recall_edge, 'F1 score', f1_edge)\n",
    "precision_edge_all = TP_edge_all / (TP_edge_all + FP_edge_all)\n",
    "recall_edge_all = TP_edge_all / (TP_edge_all + FN_edge_all)\n",
    "f1_edge_all = 2*precision_edge_all*recall_edge_all / (precision_edge_all + recall_edge_all)\n",
    "print()\n",
    "print('Overall precision:', precision_edge_all, 'recall:', recall_edge_all, 'F1:', f1_edge_all)"
   ]
  },
  {
   "cell_type": "markdown",
   "metadata": {},
   "source": [
    "## 5.4 Use full dataset for training"
   ]
  },
  {
   "cell_type": "code",
   "execution_count": 70,
   "metadata": {},
   "outputs": [
    {
     "data": {
      "text/plain": [
       "8496"
      ]
     },
     "execution_count": 70,
     "metadata": {},
     "output_type": "execute_result"
    }
   ],
   "source": [
    "processed_feature_list = []\n",
    "for pole_pair in feature_dict:\n",
    "    raw_feature_list = feature_dict[pole_pair]\n",
    "    feature_list = feature_transformation_2(pole_pair, raw_feature_list, idx2line, all_predicted_poles)\n",
    "    processed_feature_list.append(feature_list)\n",
    "len(processed_feature_list)"
   ]
  },
  {
   "cell_type": "code",
   "execution_count": 71,
   "metadata": {},
   "outputs": [
    {
     "name": "stdout",
     "output_type": "stream",
     "text": [
      "Full dataset, # true edges covered:  1779 / 2442 , # candidates with incorrect pole:  2604 / 8496\n"
     ]
    }
   ],
   "source": [
    "label_list = []\n",
    "covered_count = 0\n",
    "incorrect_pole_count = 0\n",
    "for pole_pair in feature_dict:\n",
    "    pid1, pid2 = pole_pair\n",
    "    if pid1 in matching_predicted2true and pid2 in matching_predicted2true:\n",
    "        true_pid1 = matching_predicted2true[pid1]\n",
    "        true_pid2 = matching_predicted2true[pid2]\n",
    "        edge = tuple(sorted((true_pid1, true_pid2)))\n",
    "#             candidate_edge_by_fips[fips].add(edge)\n",
    "        if edge in true_edge_set:\n",
    "            covered_count += 1\n",
    "            label = 1\n",
    "        else:\n",
    "            label = 0\n",
    "    else:\n",
    "        incorrect_pole_count += 1\n",
    "        label = 0\n",
    "    label_list.append(label)\n",
    "print('Full dataset, # true edges covered: ', covered_count, '/', len(true_edge_set), \n",
    "      ', # candidates with incorrect pole: ', incorrect_pole_count, '/', len(feature_dict))"
   ]
  },
  {
   "cell_type": "code",
   "execution_count": 72,
   "metadata": {},
   "outputs": [
    {
     "name": "stdout",
     "output_type": "stream",
     "text": [
      "[12:21:55] WARNING: ../src/learner.cc:1061: Starting in XGBoost 1.3.0, the default evaluation metric used with the objective 'binary:logistic' was changed from 'error' to 'logloss'. Explicitly set eval_metric if you'd like to restore the old behavior.\n",
      "Training precision, recall, and F1: 0.7387 0.9151 0.8175\n"
     ]
    }
   ],
   "source": [
    "X_train = np.array(processed_feature_list)\n",
    "y_train = np.array(label_list)\n",
    "model = XGBoost(max_depth=3, eta=0.4, gamma=0, Lambda=2, num_round=13, threshold=0.35)\n",
    "model.fit(X_train, y_train)\n",
    "y_train_pred = model.predict(X_train)\n",
    "# y_test_pred = model.predict(X_test)\n",
    "precision_train, recall_train, F1_train = metrics(y_train, y_train_pred)\n",
    "print(\"Training precision, recall, and F1:\", precision_train, recall_train, F1_train)\n",
    "# model.feature_importances_"
   ]
  },
  {
   "cell_type": "code",
   "execution_count": 63,
   "metadata": {},
   "outputs": [],
   "source": [
    "# Uncomment the following lines to save model\n",
    "# with open('checkpoint/link_prediction_models/SanCarlos_GB_depth3_fitall_feature_transform_2.pickle', 'wb') as f:\n",
    "#     pickle.dump(model, f)"
   ]
  }
 ],
 "metadata": {
  "kernelspec": {
   "display_name": "Environment (conda_tensorflow_p36)",
   "language": "python",
   "name": "conda_tensorflow_p36"
  },
  "language_info": {
   "codemirror_mode": {
    "name": "ipython",
    "version": 3
   },
   "file_extension": ".py",
   "mimetype": "text/x-python",
   "name": "python",
   "nbconvert_exporter": "python",
   "pygments_lexer": "ipython3",
   "version": "3.6.5"
  }
 },
 "nbformat": 4,
 "nbformat_minor": 2
}
